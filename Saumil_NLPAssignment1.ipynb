{
  "cells": [
    {
      "cell_type": "markdown",
      "metadata": {
        "id": "6ek1z-lgkLJ9"
      },
      "source": [
        "# NLP Assignment 1 (40% of grade): Text classification for Fake News Detection\n",
        "\n",
        "This coursework will involve you implementing functions for a text classifier, which you will train to detect **fake news** in a corpus of approx. 10,000 statements, which will be split into a 80%/20% training/test split. \n",
        "\n",
        "In this template you are given the basis for that implementation, though some of the functions are missing, which you have to fill in.\n",
        "\n",
        "Follow the instructions file **NLP_Assignment_1_Instructions.pdf** for details of each question - the outline of what needs to be achieved for each question is as below.\n",
        "\n",
        "You must submit all **ipython notebooks and extra resources you need to run the code if you've added them** in the code submission, and a **2 page report (pdf)** in the report submission on QMPlus where you report your methods and findings according to the instructions file for each question."
      ]
    },
    {
      "cell_type": "code",
      "execution_count": 20,
      "metadata": {
        "colab": {
          "base_uri": "https://localhost:8080/"
        },
        "id": "Y1OBqJIFkLKA",
        "outputId": "228e354b-b7e5-4bd5-d58e-588e6e5c42fc"
      },
      "outputs": [
        {
          "output_type": "stream",
          "name": "stdout",
          "text": [
            "Looking in indexes: https://pypi.org/simple, https://us-python.pkg.dev/colab-wheels/public/simple/\n",
            "Requirement already satisfied: nltk in /usr/local/lib/python3.7/dist-packages (3.7)\n",
            "Requirement already satisfied: regex>=2021.8.3 in /usr/local/lib/python3.7/dist-packages (from nltk) (2022.6.2)\n",
            "Requirement already satisfied: click in /usr/local/lib/python3.7/dist-packages (from nltk) (7.1.2)\n",
            "Requirement already satisfied: joblib in /usr/local/lib/python3.7/dist-packages (from nltk) (1.2.0)\n",
            "Requirement already satisfied: tqdm in /usr/local/lib/python3.7/dist-packages (from nltk) (4.64.1)\n"
          ]
        }
      ],
      "source": [
        "!pip install nltk"
      ]
    },
    {
      "cell_type": "code",
      "execution_count": 21,
      "metadata": {
        "id": "JuiYqeB_kLKB"
      },
      "outputs": [],
      "source": [
        "import csv                               # csv reader\n",
        "from sklearn.svm import LinearSVC\n",
        "from nltk.classify import SklearnClassifier\n",
        "from sklearn.pipeline import Pipeline\n",
        "from sklearn.metrics import precision_recall_fscore_support # to report on precision and recall\n",
        "import numpy as np"
      ]
    },
    {
      "cell_type": "code",
      "execution_count": 22,
      "metadata": {
        "id": "0lUGfD0skLKC"
      },
      "outputs": [],
      "source": [
        "def load_dt(path):\n",
        "    \"\"\"Load data from a tab-separated file and append it to raw_data.\"\"\"\n",
        "    with open(path,encoding=\"utf8\") as f:\n",
        "        reader = csv.reader(f, delimiter='\\t')\n",
        "        for line in reader:\n",
        "            if line[0] == \"Id\":  # skip header\n",
        "                continue\n",
        "            (label, text) = parse_dt_line(line)\n",
        "            raw_data.append((text, label))\n",
        "\n",
        "def split_and_prepro_data(percentage):\n",
        "    \"\"\"Split the data between train_data and test_data according to the percentage\n",
        "    and performs the preprocessing.\"\"\"\n",
        "    num_samples = len(raw_data)\n",
        "    num_training_samples = int((percentage * num_samples))\n",
        "    for (text, label) in raw_data[:num_training_samples]:\n",
        "        train_data.append((to_feature_vector(pre_process(text)),label))\n",
        "    for (text, label) in raw_data[num_training_samples:]:\n",
        "        test_data.append((to_feature_vector(pre_process(text)),label))"
      ]
    },
    {
      "cell_type": "markdown",
      "metadata": {
        "id": "fLeZMtWKkLKC"
      },
      "source": [
        "# Question 1: Input and Basic preprocessing (10 marks)"
      ]
    },
    {
      "cell_type": "code",
      "execution_count": 23,
      "metadata": {
        "id": "anlVVGoNkLKD"
      },
      "outputs": [],
      "source": [
        "def convert_lbl(label):\n",
        "    \"\"\"Converts the multiple classes into two,\n",
        "    making it a binary distinction between fake news and real.\"\"\"\n",
        "    #return label\n",
        "    # Converting the multiclass labels to binary label\n",
        "    labels_map = {\n",
        "        'true': 'REAL',\n",
        "        'mostly-true': 'REAL',\n",
        "        'half-true': 'REAL',\n",
        "        'false': 'FAKE',\n",
        "        'barely-true': 'FAKE',\n",
        "        'pants-fire': 'FAKE'\n",
        "    }\n",
        "    return labels_map[label]\n",
        "\n",
        "def parse_dt_line(line):  \n",
        "    # Should return a tuple of the label as just FAKE or REAL and the statement\n",
        "    # e.g. (label, statement)\n",
        "    \"\"\" \"\"\"\n",
        "    (label,text) = line[1],line[2]\n",
        "    label = convert_lbl(label)\n",
        "    return (label,text)"
      ]
    },
    {
      "cell_type": "code",
      "execution_count": 24,
      "metadata": {
        "id": "dYoJnVCMkLKD"
      },
      "outputs": [],
      "source": [
        "\n",
        "# Input: a string of one statement\n",
        "def pre_process(text):\n",
        "    # Should return a list of tokens\n",
        "    # DESCRIBE YOUR METHOD IN WORDS\n",
        "    return text.split()"
      ]
    },
    {
      "cell_type": "markdown",
      "metadata": {
        "id": "DobpTF_FkLKE"
      },
      "source": [
        "# Question 2: Basic Feature Extraction (20 marks)"
      ]
    },
    {
      "cell_type": "code",
      "source": [
        "from collections import Counter"
      ],
      "metadata": {
        "id": "-01YbOCukvk2"
      },
      "execution_count": 25,
      "outputs": []
    },
    {
      "cell_type": "code",
      "execution_count": 26,
      "metadata": {
        "id": "HcGUkiEJkLKF"
      },
      "outputs": [],
      "source": [
        "global_feature_dict = {} # A global dictionary of features\n",
        "from collections import Counter\n",
        "def to_feature_vector(tokens):\n",
        "    # Should return a dictionary containing features as keys, and weights as values\n",
        "    # DESCRIBE YOUR METHOD IN WORDS\n",
        "    \n",
        "    return dict(Counter(tokens))"
      ]
    },
    {
      "cell_type": "code",
      "execution_count": 27,
      "metadata": {
        "id": "Es8eoElakLKF"
      },
      "outputs": [],
      "source": [
        "# TRAINING AND VALIDATING OUR CLASSIFIER\n",
        "\n",
        "def train_classifier(data):\n",
        "    print(\" the Training Classifier...\")\n",
        "    pipeline =  Pipeline([('svc', LinearSVC())])\n",
        "    return SklearnClassifier(pipeline).train(data)"
      ]
    },
    {
      "cell_type": "markdown",
      "metadata": {
        "id": "mWguwpUFkLKG"
      },
      "source": [
        "# Question 3: Cross-validation (20 marks)"
      ]
    },
    {
      "cell_type": "code",
      "execution_count": 28,
      "metadata": {
        "id": "LbAtBrwhkLKG"
      },
      "outputs": [],
      "source": [
        "#solution\n",
        "from sklearn.metrics import classification_report\n",
        "from sklearn.metrics import accuracy_score\n",
        "\n",
        "def cross_vald(dataset, folds):\n",
        "    results = []\n",
        "    fold_size = int(len(dataset)/folds) + 1\n",
        "    \n",
        "    per = []\n",
        "    recall = []\n",
        "    f1score = []\n",
        "    accu = []\n",
        "    \n",
        "    for i in range(0,len(dataset),int(fold_size)):\n",
        "        # insert code here that trains and tests on the 10 folds of data in the dataset\n",
        "        print(\"Fold start on the items %d - %d\" % (i, i+fold_size))\n",
        "        # FILL IN THE METHOD HERE\n",
        "        test_set = dataset[i:i+fold_size]\n",
        "        train_set = dataset[:i]+dataset[i+fold_size:]\n",
        "        \n",
        "        classifier = train_classifier(train_set)\n",
        "        y_test = predict_lbls([x[0] for x in test_set],classifier)\n",
        "        \n",
        "        true_label = [x[1] for x in test_set]\n",
        "        output = classification_report(true_label,y_test,output_dict=True)\n",
        "        accuracy = accuracy_score(true_label, y_test)\n",
        "        \n",
        "        accu.append(accuracy)\n",
        "        per.append(output['FAKE']['precision'])\n",
        "        recall.append(output['FAKE']['recall'])\n",
        "        f1score.append(output['FAKE']['f1-score'])\n",
        "        \n",
        "        \n",
        "    return [np.mean(per),np.mean(recall),np.mean(f1score), np.mean(accu)]"
      ]
    },
    {
      "cell_type": "code",
      "execution_count": 29,
      "metadata": {
        "id": "HVH3-1tqkLKH"
      },
      "outputs": [],
      "source": [
        "# PREDICTING LABELS GIVEN A CLASSIFIER\n",
        "\n",
        "def predict_lbls(samples, classifier):\n",
        "    \"\"\"Assuming preprocessed samples, return their predicted labels from the classifier model.\"\"\"\n",
        "    return classifier.classify_many(samples)\n",
        "\n",
        "def predict_lbl_from_raw(sample, classifier):\n",
        "    \"\"\"Assuming raw text, return its predicted label from the classifier model.\"\"\"\n",
        "    return classifier.classify(to_feature_vector(preProcess(reviewSample)))"
      ]
    },
    {
      "cell_type": "code",
      "execution_count": 30,
      "metadata": {
        "colab": {
          "base_uri": "https://localhost:8080/"
        },
        "id": "k2QDWyn8kLKH",
        "outputId": "d95da930-a846-4b9e-dc37-3bd4c5f9e7b3"
      },
      "outputs": [
        {
          "output_type": "stream",
          "name": "stdout",
          "text": [
            "Now 0 rawData, 0 trainData, 0 testData\n",
            "Preparing the dataset...\n",
            "Now 10241 rawData, 0 trainData, 0 testData\n",
            "Preparing the training and the test data...\n",
            "After split, 10241 rawData, 8192 trainData, 2049 testData\n",
            "Training Samples are: \n",
            "8192\n",
            "Features: \n",
            "0\n"
          ]
        }
      ],
      "source": [
        "# MAIN\n",
        "\n",
        "# loading reviews\n",
        "# initialize global lists that will be appended to by the methods below\n",
        "raw_data = []          # the filtered data from the dataset file\n",
        "train_data = []        # the pre-processed training data as a percentage of the total dataset\n",
        "test_data = []         # the pre-processed test data as a percentage of the total dataset\n",
        "\n",
        "\n",
        "# references to the data files\n",
        "data_file_path = 'fake_news.tsv'\n",
        "\n",
        "# Do the actual stuff (i.e. call the functions we've made)\n",
        "# We parse the dataset and put it in a raw data list\n",
        "print(\"Now %d rawData, %d trainData, %d testData\" % (len(raw_data), len(train_data), len(test_data)),\n",
        "      \"Preparing the dataset...\",sep='\\n')\n",
        "\n",
        "load_dt(data_file_path) \n",
        "\n",
        "# We split the raw dataset into a set of training data and a set of test data (80/20)\n",
        "# You do the cross validation on the 80% (training data)\n",
        "# We print the number of training samples and the number of features before the split\n",
        "print(\"Now %d rawData, %d trainData, %d testData\" % (len(raw_data), len(train_data), len(test_data)),\n",
        "      \"Preparing the training and the test data...\",sep='\\n')\n",
        "\n",
        "split_and_prepro_data(0.8)\n",
        "\n",
        "# We print the number of training samples and the number of features after the split\n",
        "print(\"After split, %d rawData, %d trainData, %d testData\" % (len(raw_data), len(train_data), len(test_data)),\n",
        "      \"Training Samples are: \", len(train_data), \"Features: \", len(global_feature_dict), sep='\\n')\n"
      ]
    },
    {
      "cell_type": "code",
      "execution_count": 31,
      "metadata": {
        "colab": {
          "base_uri": "https://localhost:8080/"
        },
        "id": "IA-zPIEJkLKI",
        "outputId": "22a96420-bf4b-45a6-e437-57d6f98884eb"
      },
      "outputs": [
        {
          "output_type": "stream",
          "name": "stdout",
          "text": [
            "Fold start on the items 0 - 820\n",
            " the Training Classifier...\n",
            "Fold start on the items 820 - 1640\n",
            " the Training Classifier...\n",
            "Fold start on the items 1640 - 2460\n",
            " the Training Classifier...\n",
            "Fold start on the items 2460 - 3280\n",
            " the Training Classifier...\n",
            "Fold start on the items 3280 - 4100\n",
            " the Training Classifier...\n",
            "Fold start on the items 4100 - 4920\n",
            " the Training Classifier...\n",
            "Fold start on the items 4920 - 5740\n",
            " the Training Classifier...\n",
            "Fold start on the items 5740 - 6560\n",
            " the Training Classifier...\n",
            "Fold start on the items 6560 - 7380\n",
            " the Training Classifier...\n",
            "Fold start on the items 7380 - 8200\n",
            " the Training Classifier...\n"
          ]
        },
        {
          "output_type": "execute_result",
          "data": {
            "text/plain": [
              "[0.5052295165459777,\n",
              " 0.49816814029284123,\n",
              " 0.5013162223569314,\n",
              " 0.5694791541511475]"
            ]
          },
          "metadata": {},
          "execution_count": 31
        }
      ],
      "source": [
        "cross_vald(train_data, 10)  # will work and output overall performance of p, r, f-score when cv implemented"
      ]
    },
    {
      "cell_type": "markdown",
      "metadata": {
        "id": "e48tZN7ykLKI"
      },
      "source": [
        "# 4. Error Analysis (10 marks)"
      ]
    },
    {
      "cell_type": "code",
      "execution_count": 32,
      "metadata": {
        "id": "AbzqwaMxkLKI"
      },
      "outputs": [],
      "source": [
        "from sklearn import metrics\n",
        "import matplotlib.pyplot as plt\n",
        "# a function to make the confusion matrix readable and pretty\n",
        "\n",
        "def confusion_matrix_heatmap(y_test, preds, labels):\n",
        "    \"\"\"Function to plot a confusion matrix\"\"\"\n",
        "    # pass labels to the confusion matrix function to ensure right order\n",
        "    cm = metrics.confusion_matrix(y_test, preds, labels=labels)\n",
        "    fig = plt.figure(figsize=(10,10))\n",
        "    ax = fig.add_subplot(111)\n",
        "    cax = ax.matshow(cm)\n",
        "    plt.title('Confusion matrix of the classifier')\n",
        "    fig.colorbar(cax)\n",
        "    ax.set_xticks(np.arange(len(labels)))\n",
        "    ax.set_yticks(np.arange(len(labels)))\n",
        "    ax.set_xticklabels( labels, rotation=45)\n",
        "    ax.set_yticklabels( labels)\n",
        "\n",
        "    for i in range(len(cm)):\n",
        "        for j in range(len(cm)):\n",
        "            text = ax.text(j, i, cm[i, j],\n",
        "                           ha=\"center\", va=\"center\", color=\"w\")\n",
        "\n",
        "    plt.xlabel('Predicted')\n",
        "    plt.ylabel('True')\n",
        "    \n",
        "    \n",
        "    \n",
        "    # fix for mpl bug that cuts off top/bottom of seaborn viz:\n",
        "    b, t = plt.ylim() # discover the values for bottom and top\n",
        "    b += 0.1 # Add 0.5 to the bottom\n",
        "    t -= 0.1 # Subtract 0.5 from the top\n",
        "    plt.ylim(b, t) # update the ylim(bottom, top) values\n",
        "    plt.show() # ta-da!\n",
        "    plt.show()"
      ]
    },
    {
      "cell_type": "code",
      "source": [
        "confusion_matrix_heatmap(y_test=true_label, preds = y_test, labels=labels)"
      ],
      "metadata": {
        "colab": {
          "base_uri": "https://localhost:8080/",
          "height": 589
        },
        "id": "NXUcHCBZlWuw",
        "outputId": "3375a620-e353-41ea-a9a6-5e399ada2ab1"
      },
      "execution_count": 33,
      "outputs": [
        {
          "output_type": "display_data",
          "data": {
            "text/plain": [
              "<Figure size 720x720 with 2 Axes>"
            ],
            "image/png": "[encoded data removed]"
          },
          "metadata": {
            "needs_background": "light"
          }
        }
      ]
    },
    {
      "cell_type": "code",
      "source": [
        "test_set = train_data[0:0+820]\n",
        "train_set = train_data[:0]+train_data[0+820:]\n",
        "\n",
        "classifier = train_classifier(train_set)\n",
        "y_test = predict_lbls([x[0] for x in test_set],classifier)\n",
        "\n",
        "true_label = [x[1] for x in test_set]\n",
        "\n",
        "output = classification_report(true_label,y_test)\n",
        "\n",
        "labels=['REAL','FAKE']"
      ],
      "metadata": {
        "colab": {
          "base_uri": "https://localhost:8080/"
        },
        "id": "ZD7PhJjjlb9D",
        "outputId": "52a2b4dd-8ee7-48ba-fa4c-5d1454ccbf09"
      },
      "execution_count": 34,
      "outputs": [
        {
          "output_type": "stream",
          "name": "stdout",
          "text": [
            " the Training Classifier...\n"
          ]
        }
      ]
    },
    {
      "cell_type": "code",
      "source": [
        "false_positive, false_negative, idx = 0,0,0\n",
        "\n",
        "false_positive_index, false_negative_index = [],[]\n",
        "\n",
        "for pred, true in zip(y_test,true_label):\n",
        "    \n",
        "    if pred=='FAKE' and true=='REAL':\n",
        "        false_positive += 1\n",
        "        false_positive_index.append(idx)\n",
        "        \n",
        "    if pred=='REAL' and true=='FAKE':\n",
        "        false_negative += 1\n",
        "        false_negative_index.append(idx)        \n",
        "    idx += 1\n",
        "\n",
        "print(f'the false positive index: {false_positive_index[:3]}')\n",
        "print(f'the false negative index: {false_negative_index[:3]}')"
      ],
      "metadata": {
        "colab": {
          "base_uri": "https://localhost:8080/"
        },
        "id": "250t-s0zlf6d",
        "outputId": "eaa46df7-43c9-4a6b-821c-a0351f773ef4"
      },
      "execution_count": 35,
      "outputs": [
        {
          "output_type": "stream",
          "name": "stdout",
          "text": [
            "the false positive index: [1, 4, 7]\n",
            "the false negative index: [6, 12, 14]\n"
          ]
        }
      ]
    },
    {
      "cell_type": "code",
      "source": [
        "print('*************False Positive:*******************')\n",
        "print(f'{raw_data[1]} Model predicted: {y_test[1]}',end='\\n\\n')\n",
        "print(f'{raw_data[4]} Model predicted: {y_test[4]}',end='\\n\\n')\n",
        "print(f'{raw_data[7]} Model predicted: {y_test[7]}',end='\\n'*3)\n",
        "\n",
        "print('**************False Negative:******************')\n",
        "print(f'{raw_data[6]} Model predicted: {y_test[6]}',end='\\n\\n')\n",
        "print(f'{raw_data[12]} Model predicted: {y_test[12]}',end='\\n\\n')\n",
        "print(f'{raw_data[14]} Model predicted: {y_test[14]}',end='\\n')"
      ],
      "metadata": {
        "colab": {
          "base_uri": "https://localhost:8080/"
        },
        "id": "3SxQYObLljik",
        "outputId": "e2ff6b35-7f66-48d2-e24b-8e046f168714"
      },
      "execution_count": 36,
      "outputs": [
        {
          "output_type": "stream",
          "name": "stdout",
          "text": [
            "*************False Positive:*******************\n",
            "('When did the decline of coal start? It started when natural gas took off that started to begin in (President George W.) Bushs administration.', 'REAL') Model predicted: FAKE\n",
            "\n",
            "('The economic turnaround started at the end of my term.', 'REAL') Model predicted: FAKE\n",
            "\n",
            "(\"I'm the only person on this stage who has worked actively just last year passing, along with Russ Feingold, some of the toughest ethics reform since Watergate.\", 'REAL') Model predicted: FAKE\n",
            "\n",
            "\n",
            "**************False Negative:******************\n",
            "('Jim Dunnam has not lived in the district he represents for years now.', 'FAKE') Model predicted: REAL\n",
            "\n",
            "('When Mitt Romney was governor of Massachusetts, we didnt just slow the rate of growth of our government, we actually cut it.', 'FAKE') Model predicted: REAL\n",
            "\n",
            "('Most of the (Affordable Care Act) has already in some sense been waived or otherwise suspended.', 'FAKE') Model predicted: REAL\n"
          ]
        }
      ]
    },
    {
      "cell_type": "code",
      "source": [
        "[ ]"
      ],
      "metadata": {
        "colab": {
          "base_uri": "https://localhost:8080/"
        },
        "id": "JltWbWnUlmpg",
        "outputId": "b127e82b-f99d-478c-9da5-5873077b7548"
      },
      "execution_count": 23,
      "outputs": [
        {
          "output_type": "execute_result",
          "data": {
            "text/plain": [
              "[]"
            ]
          },
          "metadata": {},
          "execution_count": 23
        }
      ]
    },
    {
      "cell_type": "markdown",
      "metadata": {
        "id": "Cc3kXPHhkLKJ"
      },
      "source": [
        "# Questions 5 (20%) and 6 (20%) (recommend starting a new notebook)"
      ]
    },
    {
      "cell_type": "code",
      "execution_count": null,
      "metadata": {
        "id": "PZ7sqrf-kLKJ"
      },
      "outputs": [],
      "source": []
    },
    {
      "cell_type": "code",
      "execution_count": null,
      "metadata": {
        "id": "DApPhp9hkLKJ"
      },
      "outputs": [],
      "source": []
    }
  ],
  "metadata": {
    "kernelspec": {
      "display_name": "Python 3",
      "language": "python",
      "name": "python3"
    },
    "language_info": {
      "codemirror_mode": {
        "name": "ipython",
        "version": 3
      },
      "file_extension": ".py",
      "mimetype": "text/x-python",
      "name": "python",
      "nbconvert_exporter": "python",
      "pygments_lexer": "ipython3",
      "version": "3.7.4"
    },
    "colab": {
      "provenance": [],
      "collapsed_sections": []
    }
  },
  "nbformat": 4,
  "nbformat_minor": 0
}